{
 "cells": [
  {
   "cell_type": "code",
   "execution_count": 32,
   "metadata": {},
   "outputs": [],
   "source": [
    "# Importing Libraries\n",
    "import pandas as pd\n",
    "import numpy as np\n",
    "from pyspark.sql import SparkSession\n",
    "from pyspark.sql.types import *\n",
    "from sklearn.preprocessing import LabelEncoder\n",
    "from sklearn.model_selection import KFold\n",
    "from sklearn.ensemble import RandomForestClassifier\n",
    "from sklearn import metrics"
   ]
  },
  {
   "cell_type": "code",
   "execution_count": 33,
   "metadata": {},
   "outputs": [],
   "source": [
    "spark = SparkSession.builder.master(\"local\").appName('Ops').getOrCreate()"
   ]
  },
  {
   "cell_type": "code",
   "execution_count": 35,
   "metadata": {},
   "outputs": [],
   "source": [
    "#path = \"E:/Rutgers/Projects/MDSR/IPL-MSDR\"\n",
    "path = \"/Users/nidhiharwani/Desktop/Most_Valuable_Player_Prediction_using_IPL_Dataset\""
   ]
  },
  {
   "cell_type": "markdown",
   "metadata": {},
   "source": [
    "# Model Trainning"
   ]
  },
  {
   "cell_type": "code",
   "execution_count": 36,
   "metadata": {},
   "outputs": [],
   "source": [
    "# Reading data\n",
    "matches = spark.read.csv(path + '/dataset/clean_data/matches.csv',inferSchema=True,header=True)\n",
    "deliveries = spark.read.csv(path + '/dataset/clean_data/deliveries.csv',inferSchema=True,header=True)\n",
    "# Creating temporary tables of the data\n",
    "matches.registerTempTable('matches_db')\n",
    "deliveries.registerTempTable('deliveries_db')"
   ]
  },
  {
   "cell_type": "code",
   "execution_count": 37,
   "metadata": {},
   "outputs": [],
   "source": [
    "# Reading data\n",
    "matches = pd.read_csv(path + '/dataset/clean_data/matches.csv')\n",
    "deliveries = pd.read_csv(path + '/dataset/clean_data/deliveries.csv')"
   ]
  },
  {
   "cell_type": "code",
   "execution_count": 38,
   "metadata": {},
   "outputs": [],
   "source": [
    "encode =  {'team1': {'Mumbai Indians':1,'Kolkata Knight Riders':2,'Royal Challengers Bangalore':3,\n",
    "                     'Deccan Chargers':4,'Chennai Super Kings':5,'Rajasthan Royals':6,'Delhi Daredevils':7,\n",
    "                     'Gujarat Lions':8,'Kings XI Punjab':9,'Sunrisers Hyderabad':10,'Rising Pune Supergiant':11,\n",
    "                     'Kochi Tuskers Kerala':12,'Pune Warriors':13, 'Delhi Capitals':14},\n",
    "           'team2': {'Mumbai Indians':1,'Kolkata Knight Riders':2,'Royal Challengers Bangalore':3,\n",
    "                     'Deccan Chargers':4,'Chennai Super Kings':5,'Rajasthan Royals':6,'Delhi Daredevils':7,\n",
    "                     'Gujarat Lions':8,'Kings XI Punjab':9,'Sunrisers Hyderabad':10,'Rising Pune Supergiant':11,\n",
    "                     'Kochi Tuskers Kerala':12,'Pune Warriors':13, 'Delhi Capitals':14},\n",
    "           'toss_winner': {'Mumbai Indians':1,'Kolkata Knight Riders':2,'Royal Challengers Bangalore':3,\n",
    "                           'Deccan Chargers':4,'Chennai Super Kings':5,'Rajasthan Royals':6,'Delhi Daredevils':7,\n",
    "                           'Gujarat Lions':8,'Kings XI Punjab':9,'Sunrisers Hyderabad':10,'Rising Pune Supergiant':11,\n",
    "                           'Kochi Tuskers Kerala':12,'Pune Warriors':13, 'Delhi Capitals':14},\n",
    "           'winner': {'Mumbai Indians':1,'Kolkata Knight Riders':2,'Royal Challengers Bangalore':3,'Deccan Chargers':4,\n",
    "                      'Chennai Super Kings':5,'Rajasthan Royals':6,'Delhi Daredevils':7,'Gujarat Lions':8,\n",
    "                      'Kings XI Punjab':9,'Sunrisers Hyderabad':10,'Rising Pune Supergiant':11,'Kochi Tuskers Kerala':12,\n",
    "                      'Pune Warriors':13, 'Delhi Capitals':14, 'Draw':15}}\n",
    "matches.replace(encode, inplace=True)"
   ]
  },
  {
   "cell_type": "code",
   "execution_count": 39,
   "metadata": {},
   "outputs": [
    {
     "data": {
      "text/html": [
       "<div>\n",
       "<style scoped>\n",
       "    .dataframe tbody tr th:only-of-type {\n",
       "        vertical-align: middle;\n",
       "    }\n",
       "\n",
       "    .dataframe tbody tr th {\n",
       "        vertical-align: top;\n",
       "    }\n",
       "\n",
       "    .dataframe thead th {\n",
       "        text-align: right;\n",
       "    }\n",
       "</style>\n",
       "<table border=\"1\" class=\"dataframe\">\n",
       "  <thead>\n",
       "    <tr style=\"text-align: right;\">\n",
       "      <th></th>\n",
       "      <th>Unnamed: 0</th>\n",
       "      <th>id</th>\n",
       "      <th>season</th>\n",
       "      <th>city</th>\n",
       "      <th>team1</th>\n",
       "      <th>team2</th>\n",
       "      <th>toss_winner</th>\n",
       "      <th>toss_decision</th>\n",
       "      <th>result</th>\n",
       "      <th>dl_applied</th>\n",
       "      <th>winner</th>\n",
       "      <th>win_by_runs</th>\n",
       "      <th>win_by_wickets</th>\n",
       "      <th>player_of_match</th>\n",
       "      <th>venue</th>\n",
       "    </tr>\n",
       "  </thead>\n",
       "  <tbody>\n",
       "    <tr>\n",
       "      <th>0</th>\n",
       "      <td>0</td>\n",
       "      <td>1</td>\n",
       "      <td>2017</td>\n",
       "      <td>Hyderabad</td>\n",
       "      <td>10</td>\n",
       "      <td>3</td>\n",
       "      <td>3</td>\n",
       "      <td>field</td>\n",
       "      <td>normal</td>\n",
       "      <td>0</td>\n",
       "      <td>10</td>\n",
       "      <td>35</td>\n",
       "      <td>0</td>\n",
       "      <td>Yuvraj Singh</td>\n",
       "      <td>Rajiv Gandhi International Stadium, Uppal</td>\n",
       "    </tr>\n",
       "    <tr>\n",
       "      <th>1</th>\n",
       "      <td>1</td>\n",
       "      <td>2</td>\n",
       "      <td>2017</td>\n",
       "      <td>Pune</td>\n",
       "      <td>1</td>\n",
       "      <td>11</td>\n",
       "      <td>11</td>\n",
       "      <td>field</td>\n",
       "      <td>normal</td>\n",
       "      <td>0</td>\n",
       "      <td>11</td>\n",
       "      <td>0</td>\n",
       "      <td>7</td>\n",
       "      <td>SPD Smith</td>\n",
       "      <td>Maharashtra Cricket Association Stadium</td>\n",
       "    </tr>\n",
       "  </tbody>\n",
       "</table>\n",
       "</div>"
      ],
      "text/plain": [
       "   Unnamed: 0  id  season       city  team1  team2  toss_winner toss_decision  \\\n",
       "0           0   1    2017  Hyderabad     10      3            3         field   \n",
       "1           1   2    2017       Pune      1     11           11         field   \n",
       "\n",
       "   result  dl_applied  winner  win_by_runs  win_by_wickets player_of_match  \\\n",
       "0  normal           0      10           35               0    Yuvraj Singh   \n",
       "1  normal           0      11            0               7       SPD Smith   \n",
       "\n",
       "                                       venue  \n",
       "0  Rajiv Gandhi International Stadium, Uppal  \n",
       "1    Maharashtra Cricket Association Stadium  "
      ]
     },
     "execution_count": 39,
     "metadata": {},
     "output_type": "execute_result"
    }
   ],
   "source": [
    "# Checking the encoding result\n",
    "matches.head(2)"
   ]
  },
  {
   "cell_type": "code",
   "execution_count": 40,
   "metadata": {},
   "outputs": [],
   "source": [
    "matches = matches[['team1','team2','city','toss_decision','toss_winner','venue','winner','season']]\n",
    "df = pd.DataFrame(matches)"
   ]
  },
  {
   "cell_type": "code",
   "execution_count": 41,
   "metadata": {},
   "outputs": [
    {
     "data": {
      "text/plain": [
       "team1            int64\n",
       "team2            int64\n",
       "city             int64\n",
       "toss_decision    int64\n",
       "toss_winner      int64\n",
       "venue            int64\n",
       "winner           int64\n",
       "season           int64\n",
       "dtype: object"
      ]
     },
     "execution_count": 41,
     "metadata": {},
     "output_type": "execute_result"
    }
   ],
   "source": [
    "label = LabelEncoder()\n",
    "for _ in ['city','toss_decision','venue']:\n",
    "    df[_] = label.fit_transform(df[_])\n",
    "df.dtypes"
   ]
  },
  {
   "cell_type": "code",
   "execution_count": 42,
   "metadata": {},
   "outputs": [
    {
     "name": "stdout",
     "output_type": "stream",
     "text": [
      "Accuracy : 85.1%\n",
      "Cross-Validation Score : 51.325%\n"
     ]
    },
    {
     "data": {
      "text/plain": [
       "RandomForestClassifier(bootstrap=True, class_weight=None, criterion='gini',\n",
       "            max_depth=10, max_features='auto', max_leaf_nodes=None,\n",
       "            min_impurity_decrease=0.0, min_impurity_split=None,\n",
       "            min_samples_leaf=1, min_samples_split=2,\n",
       "            min_weight_fraction_leaf=0.0, n_estimators=100, n_jobs=None,\n",
       "            oob_score=False, random_state=None, verbose=0,\n",
       "            warm_start=False)"
      ]
     },
     "execution_count": 42,
     "metadata": {},
     "output_type": "execute_result"
    }
   ],
   "source": [
    "# Apply RandomForest\n",
    "model = RandomForestClassifier(n_estimators=100, max_depth=10)\n",
    "outcome = ['winner']\n",
    "predictors = ['team1', 'team2', 'venue', 'toss_winner','city','toss_decision']\n",
    "\n",
    "model.fit(df[predictors], df[outcome].values.ravel())\n",
    "predictions = model.predict(df[predictors])\n",
    "accuracy = metrics.accuracy_score(predictions,df[outcome])\n",
    "print('Accuracy : {0:.3}%'.format(100*accuracy))\n",
    "\n",
    "kf = KFold(n_splits=10)\n",
    "error = []\n",
    "for train, test in kf.split(df):\n",
    "    train_predictors = (df[predictors].iloc[train,:])\n",
    "    train_target = df[outcome].iloc[train]\n",
    "    model.fit(train_predictors, train_target.values.ravel())\n",
    "    error.append(model.score(df[predictors].iloc[test,:], df[outcome].iloc[test]))\n",
    "\n",
    "print('Cross-Validation Score : {0:.3%}'.format(np.mean(error)))\n",
    "model.fit(df[predictors],df[outcome].values.ravel()) "
   ]
  },
  {
   "cell_type": "markdown",
   "metadata": {},
   "source": [
    "### Creating Player list based on teams player per season"
   ]
  },
  {
   "cell_type": "code",
   "execution_count": 43,
   "metadata": {},
   "outputs": [],
   "source": [
    "players = spark.sql('select m.id, m.season, d.batting_team, d.bowling_team, d.batsman, d.non_striker, \\\n",
    "                     d.bowler from matches_db m \\\n",
    "                     full outer join deliveries_db d \\\n",
    "                     on m.id=d.match_id \\\n",
    "                     order by m.id')\n",
    "players.toPandas().to_csv(path + '/dataset/players.csv')"
   ]
  },
  {
   "cell_type": "code",
   "execution_count": 44,
   "metadata": {},
   "outputs": [],
   "source": [
    "players = pd.read_csv(path + '/dataset/players.csv')\n",
    "player = set()\n",
    "for i in range(len(players['id'])):\n",
    "    player.add((players['season'][i],players['batting_team'][i],players['batsman'][i]))\n",
    "    player.add((players['season'][i],players['batting_team'][i],players['non_striker'][i]))\n",
    "    player.add((players['season'][i],players['bowling_team'][i],players['bowler'][i]))\n",
    "pd.DataFrame(list(player), columns =['season', 'team', 'player']).to_csv(path + '/dataset/players.csv')"
   ]
  },
  {
   "cell_type": "code",
   "execution_count": 45,
   "metadata": {},
   "outputs": [],
   "source": [
    "players = spark.read.csv(path + '/dataset/players.csv',inferSchema=True,header=True)\n",
    "total_weight = spark.read.csv(path + '/dataset/weights_data/player_weights.csv',inferSchema=True,header=True)"
   ]
  },
  {
   "cell_type": "code",
   "execution_count": 46,
   "metadata": {},
   "outputs": [
    {
     "name": "stdout",
     "output_type": "stream",
     "text": [
      "+---+------+--------------------+------------+\n",
      "|_c0|season|                team|      player|\n",
      "+---+------+--------------------+------------+\n",
      "|  0|  2018| Sunrisers Hyderabad|      R Bhui|\n",
      "|  1|  2017|       Gujarat Lions|Ishan Kishan|\n",
      "|  2|  2010|     Kings XI Punjab|    MS Bisla|\n",
      "|  3|  2009|Royal Challengers...|   MK Pandey|\n",
      "|  4|  2013|     Kings XI Punjab|    BA Bhatt|\n",
      "|  5|  2015|      Mumbai Indians|   AT Rayudu|\n",
      "|  6|  2017|    Delhi Daredevils| CJ Anderson|\n",
      "|  7|  2014|      Mumbai Indians|   AT Rayudu|\n",
      "|  8|  2014| Chennai Super Kings| BB McCullum|\n",
      "|  9|  2012|      Mumbai Indians|    AN Ahmed|\n",
      "+---+------+--------------------+------------+\n",
      "only showing top 10 rows\n",
      "\n"
     ]
    }
   ],
   "source": [
    "players.registerTempTable('players')\n",
    "players.show(10)"
   ]
  },
  {
   "cell_type": "code",
   "execution_count": 47,
   "metadata": {},
   "outputs": [
    {
     "name": "stdout",
     "output_type": "stream",
     "text": [
      "+---+-----------------+--------------------+--------------------+------------+\n",
      "|_c0|           Player|Total_Batting_Weight|Total_Bowling_Weight|Total_Weight|\n",
      "+---+-----------------+--------------------+--------------------+------------+\n",
      "|  0|        CH Morris|             4.60416|             3.74057|     8.34473|\n",
      "|  1|      MF Maharoof|             4.02916|             4.26415|     8.29331|\n",
      "|  2|      Rashid Khan|             4.14583|             4.12265|     8.26848|\n",
      "|  3|    Mohammad Nabi|             4.12916|             3.77831|     7.90747|\n",
      "|  4|        KK Cooper|             3.88334|              3.9953|     7.87864|\n",
      "|  5|        SP Narine|             3.53749|             4.33491|      7.8724|\n",
      "|  6|           AJ Tye|             3.69167|             4.08491|     7.77658|\n",
      "|  7|   A Ashish Reddy|               4.125|             3.51887|     7.64387|\n",
      "|  8|         M Morkel|             4.04165|             3.58491|     7.62656|\n",
      "|  9|Washington Sundar|             4.38332|              3.2217|     7.60502|\n",
      "+---+-----------------+--------------------+--------------------+------------+\n",
      "only showing top 10 rows\n",
      "\n"
     ]
    }
   ],
   "source": [
    "total_weight.registerTempTable('player_weight')\n",
    "total_weight.show(10)"
   ]
  },
  {
   "cell_type": "code",
   "execution_count": 48,
   "metadata": {},
   "outputs": [],
   "source": [
    "team_weight = spark.sql('select * from players p \\\n",
    "                         left join player_weight pw \\\n",
    "                         on p.player = pw.player')\n",
    "team_weight.registerTempTable('players')"
   ]
  },
  {
   "cell_type": "code",
   "execution_count": 49,
   "metadata": {},
   "outputs": [
    {
     "name": "stdout",
     "output_type": "stream",
     "text": [
      "+--------------------+------+--------------------+--------------------+-----------+\n",
      "|                Team|Season|Total_Batting_Weight|Total_Bowling_Weight|Team_Weight|\n",
      "+--------------------+------+--------------------+--------------------+-----------+\n",
      "|      Mumbai Indians|  2008|            30.03333|            22.85379|   52.88712|\n",
      "|Kolkata Knight Ri...|  2008|            25.53335|            25.24534|   50.77869|\n",
      "|     Deccan Chargers|  2008|            24.44164|            22.05191|   46.49355|\n",
      "|     Kings XI Punjab|  2008|            29.49998|            17.25475|   46.75473|\n",
      "| Chennai Super Kings|  2008|            29.90831|            14.13682|   44.04513|\n",
      "|    Rajasthan Royals|  2008|            21.07916|             25.6038|   46.68296|\n",
      "|    Delhi Daredevils|  2008|            30.54582|            21.67454|   52.22036|\n",
      "|Royal Challengers...|  2008|            29.63333|            24.30194|   53.93527|\n",
      "| Chennai Super Kings|  2009|            30.60834|            17.74531|   48.35365|\n",
      "|      Mumbai Indians|  2009|            28.94165|            27.09908|   56.04073|\n",
      "+--------------------+------+--------------------+--------------------+-----------+\n",
      "only showing top 10 rows\n",
      "\n"
     ]
    }
   ],
   "source": [
    "team_weight = spark.sql('select team as Team, season as Season, round(sum(total_batting_weight),5) as Total_Batting_Weight,\\\n",
    "                         round(sum(total_bowling_weight),5) as Total_Bowling_Weight,\\\n",
    "                         round(sum(total_weight),5) as Team_Weight from players \\\n",
    "                         group by team, season \\\n",
    "                         order by season')\n",
    "team_weight.show(10)\n",
    "team_weight = team_weight.toPandas()"
   ]
  },
  {
   "cell_type": "code",
   "execution_count": 50,
   "metadata": {},
   "outputs": [],
   "source": [
    "# Converting to csv \n",
    "team_weight.to_csv(path + '/dataset/weights_data/team_weights.csv')"
   ]
  },
  {
   "cell_type": "markdown",
   "metadata": {},
   "source": [
    "## Prediction of Winner"
   ]
  },
  {
   "cell_type": "code",
   "execution_count": 51,
   "metadata": {},
   "outputs": [],
   "source": [
    "encode = {'Team': {'Mumbai Indians':1,'Kolkata Knight Riders':2,'Royal Challengers Bangalore':3,\n",
    "                   'Deccan Chargers':4,'Chennai Super Kings':5,'Rajasthan Royals':6,'Delhi Daredevils':7,\n",
    "                   'Gujarat Lions':8,'Kings XI Punjab':9,'Sunrisers Hyderabad':10,'Rising Pune Supergiant':11,\n",
    "                   'Kochi Tuskers Kerala':12,'Pune Warriors':13, 'Delhi Capitals':14}}\n",
    "team_weight.replace(encode, inplace=True)\n",
    "team_weight.head(10)\n",
    "team_weight.to_csv(path + '/dataset/weights_data/new_team_weights.csv')"
   ]
  },
  {
   "cell_type": "code",
   "execution_count": 52,
   "metadata": {},
   "outputs": [
    {
     "name": "stdout",
     "output_type": "stream",
     "text": [
      "+-----+-----+----+-------------+-----------+-----+------+------+\n",
      "|team1|team2|city|toss_decision|toss_winner|venue|winner|season|\n",
      "+-----+-----+----+-------------+-----------+-----+------+------+\n",
      "|   10|    3|  15|            1|          3|   28|    10|  2017|\n",
      "|    1|   11|  27|            1|         11|   21|    11|  2017|\n",
      "|    8|    2|  29|            1|          2|   31|     2|  2017|\n",
      "|   11|    9|  16|            1|          9|   13|     9|  2017|\n",
      "|    3|    7|   2|            0|          3|   17|     3|  2017|\n",
      "|    8|   10|  15|            1|         10|   28|    10|  2017|\n",
      "|    2|    1|  24|            1|          1|   40|     1|  2017|\n",
      "|    3|    9|  16|            0|          3|   13|     9|  2017|\n",
      "|    7|   11|  27|            1|         11|   21|     7|  2017|\n",
      "|   10|    1|  24|            1|          1|   40|     1|  2017|\n",
      "+-----+-----+----+-------------+-----------+-----+------+------+\n",
      "only showing top 10 rows\n",
      "\n"
     ]
    }
   ],
   "source": [
    "new_team_weight = spark.createDataFrame(df)\n",
    "new_team_weight.registerTempTable('new_team_weight')\n",
    "new_team_weight.show(10)"
   ]
  },
  {
   "cell_type": "code",
   "execution_count": 53,
   "metadata": {},
   "outputs": [
    {
     "name": "stdout",
     "output_type": "stream",
     "text": [
      "+---+----+------+--------------------+--------------------+-----------+\n",
      "|_c0|Team|Season|Total_Batting_Weight|Total_Bowling_Weight|Team_Weight|\n",
      "+---+----+------+--------------------+--------------------+-----------+\n",
      "|  0|   5|  2008|            29.90831|            14.13682|   44.04513|\n",
      "|  1|   7|  2008|            30.54582|            21.67454|   52.22036|\n",
      "|  2|   9|  2008|            29.49998|            17.25475|   46.75473|\n",
      "|  3|   4|  2008|            24.44164|            22.05191|   46.49355|\n",
      "|  4|   6|  2008|            21.07916|             25.6038|   46.68296|\n",
      "|  5|   1|  2008|            30.03333|            22.85379|   52.88712|\n",
      "|  6|   2|  2008|            25.53335|            25.24534|   50.77869|\n",
      "|  7|   3|  2008|            29.63333|            24.30194|   53.93527|\n",
      "|  8|   1|  2009|            28.94165|            27.09908|   56.04073|\n",
      "|  9|   2|  2009|            30.11254|            29.24064|   59.35318|\n",
      "+---+----+------+--------------------+--------------------+-----------+\n",
      "only showing top 10 rows\n",
      "\n"
     ]
    }
   ],
   "source": [
    "tw = spark.read.csv(path + '/dataset/weights_data/new_team_weights.csv',inferSchema=True,header=True)\n",
    "tw.registerTempTable('team_weight1')\n",
    "tw.show(10)"
   ]
  },
  {
   "cell_type": "code",
   "execution_count": 54,
   "metadata": {},
   "outputs": [
    {
     "data": {
      "text/html": [
       "<div>\n",
       "<style scoped>\n",
       "    .dataframe tbody tr th:only-of-type {\n",
       "        vertical-align: middle;\n",
       "    }\n",
       "\n",
       "    .dataframe tbody tr th {\n",
       "        vertical-align: top;\n",
       "    }\n",
       "\n",
       "    .dataframe thead th {\n",
       "        text-align: right;\n",
       "    }\n",
       "</style>\n",
       "<table border=\"1\" class=\"dataframe\">\n",
       "  <thead>\n",
       "    <tr style=\"text-align: right;\">\n",
       "      <th></th>\n",
       "      <th>team1</th>\n",
       "      <th>team2</th>\n",
       "      <th>city</th>\n",
       "      <th>toss_decision</th>\n",
       "      <th>toss_winner</th>\n",
       "      <th>venue</th>\n",
       "      <th>winner</th>\n",
       "      <th>season</th>\n",
       "      <th>team1_batting_wt</th>\n",
       "      <th>team1_bowling_wt</th>\n",
       "      <th>team1_merged_wt</th>\n",
       "      <th>team2_batting_wt</th>\n",
       "      <th>team2_bowling_wt</th>\n",
       "      <th>team2_merged_wt</th>\n",
       "    </tr>\n",
       "  </thead>\n",
       "  <tbody>\n",
       "    <tr>\n",
       "      <th>0</th>\n",
       "      <td>10</td>\n",
       "      <td>3</td>\n",
       "      <td>15</td>\n",
       "      <td>1</td>\n",
       "      <td>3</td>\n",
       "      <td>28</td>\n",
       "      <td>10</td>\n",
       "      <td>2017</td>\n",
       "      <td>43.56249</td>\n",
       "      <td>30.13685</td>\n",
       "      <td>73.69934</td>\n",
       "      <td>41.03332</td>\n",
       "      <td>28.08966</td>\n",
       "      <td>69.12298</td>\n",
       "    </tr>\n",
       "    <tr>\n",
       "      <th>1</th>\n",
       "      <td>1</td>\n",
       "      <td>11</td>\n",
       "      <td>27</td>\n",
       "      <td>1</td>\n",
       "      <td>11</td>\n",
       "      <td>21</td>\n",
       "      <td>11</td>\n",
       "      <td>2017</td>\n",
       "      <td>50.30838</td>\n",
       "      <td>43.52833</td>\n",
       "      <td>93.83671</td>\n",
       "      <td>39.79583</td>\n",
       "      <td>21.21700</td>\n",
       "      <td>61.01283</td>\n",
       "    </tr>\n",
       "    <tr>\n",
       "      <th>2</th>\n",
       "      <td>8</td>\n",
       "      <td>2</td>\n",
       "      <td>29</td>\n",
       "      <td>1</td>\n",
       "      <td>2</td>\n",
       "      <td>31</td>\n",
       "      <td>2</td>\n",
       "      <td>2017</td>\n",
       "      <td>39.31667</td>\n",
       "      <td>33.93399</td>\n",
       "      <td>73.25066</td>\n",
       "      <td>34.49166</td>\n",
       "      <td>26.59440</td>\n",
       "      <td>61.08606</td>\n",
       "    </tr>\n",
       "    <tr>\n",
       "      <th>3</th>\n",
       "      <td>11</td>\n",
       "      <td>9</td>\n",
       "      <td>16</td>\n",
       "      <td>1</td>\n",
       "      <td>9</td>\n",
       "      <td>13</td>\n",
       "      <td>9</td>\n",
       "      <td>2017</td>\n",
       "      <td>39.79583</td>\n",
       "      <td>21.21700</td>\n",
       "      <td>61.01283</td>\n",
       "      <td>40.41663</td>\n",
       "      <td>23.96229</td>\n",
       "      <td>64.37892</td>\n",
       "    </tr>\n",
       "    <tr>\n",
       "      <th>4</th>\n",
       "      <td>3</td>\n",
       "      <td>7</td>\n",
       "      <td>2</td>\n",
       "      <td>0</td>\n",
       "      <td>3</td>\n",
       "      <td>17</td>\n",
       "      <td>3</td>\n",
       "      <td>2017</td>\n",
       "      <td>41.03332</td>\n",
       "      <td>28.08966</td>\n",
       "      <td>69.12298</td>\n",
       "      <td>36.47501</td>\n",
       "      <td>26.20757</td>\n",
       "      <td>62.68258</td>\n",
       "    </tr>\n",
       "    <tr>\n",
       "      <th>5</th>\n",
       "      <td>8</td>\n",
       "      <td>10</td>\n",
       "      <td>15</td>\n",
       "      <td>1</td>\n",
       "      <td>10</td>\n",
       "      <td>28</td>\n",
       "      <td>10</td>\n",
       "      <td>2017</td>\n",
       "      <td>39.31667</td>\n",
       "      <td>33.93399</td>\n",
       "      <td>73.25066</td>\n",
       "      <td>43.56249</td>\n",
       "      <td>30.13685</td>\n",
       "      <td>73.69934</td>\n",
       "    </tr>\n",
       "    <tr>\n",
       "      <th>6</th>\n",
       "      <td>2</td>\n",
       "      <td>1</td>\n",
       "      <td>24</td>\n",
       "      <td>1</td>\n",
       "      <td>1</td>\n",
       "      <td>40</td>\n",
       "      <td>1</td>\n",
       "      <td>2017</td>\n",
       "      <td>34.49166</td>\n",
       "      <td>26.59440</td>\n",
       "      <td>61.08606</td>\n",
       "      <td>50.30838</td>\n",
       "      <td>43.52833</td>\n",
       "      <td>93.83671</td>\n",
       "    </tr>\n",
       "    <tr>\n",
       "      <th>7</th>\n",
       "      <td>3</td>\n",
       "      <td>9</td>\n",
       "      <td>16</td>\n",
       "      <td>0</td>\n",
       "      <td>3</td>\n",
       "      <td>13</td>\n",
       "      <td>9</td>\n",
       "      <td>2017</td>\n",
       "      <td>41.03332</td>\n",
       "      <td>28.08966</td>\n",
       "      <td>69.12298</td>\n",
       "      <td>40.41663</td>\n",
       "      <td>23.96229</td>\n",
       "      <td>64.37892</td>\n",
       "    </tr>\n",
       "    <tr>\n",
       "      <th>8</th>\n",
       "      <td>7</td>\n",
       "      <td>11</td>\n",
       "      <td>27</td>\n",
       "      <td>1</td>\n",
       "      <td>11</td>\n",
       "      <td>21</td>\n",
       "      <td>7</td>\n",
       "      <td>2017</td>\n",
       "      <td>36.47501</td>\n",
       "      <td>26.20757</td>\n",
       "      <td>62.68258</td>\n",
       "      <td>39.79583</td>\n",
       "      <td>21.21700</td>\n",
       "      <td>61.01283</td>\n",
       "    </tr>\n",
       "    <tr>\n",
       "      <th>9</th>\n",
       "      <td>10</td>\n",
       "      <td>1</td>\n",
       "      <td>24</td>\n",
       "      <td>1</td>\n",
       "      <td>1</td>\n",
       "      <td>40</td>\n",
       "      <td>1</td>\n",
       "      <td>2017</td>\n",
       "      <td>43.56249</td>\n",
       "      <td>30.13685</td>\n",
       "      <td>73.69934</td>\n",
       "      <td>50.30838</td>\n",
       "      <td>43.52833</td>\n",
       "      <td>93.83671</td>\n",
       "    </tr>\n",
       "  </tbody>\n",
       "</table>\n",
       "</div>"
      ],
      "text/plain": [
       "   team1  team2  city  toss_decision  toss_winner  venue  winner  season  \\\n",
       "0     10      3    15              1            3     28      10    2017   \n",
       "1      1     11    27              1           11     21      11    2017   \n",
       "2      8      2    29              1            2     31       2    2017   \n",
       "3     11      9    16              1            9     13       9    2017   \n",
       "4      3      7     2              0            3     17       3    2017   \n",
       "5      8     10    15              1           10     28      10    2017   \n",
       "6      2      1    24              1            1     40       1    2017   \n",
       "7      3      9    16              0            3     13       9    2017   \n",
       "8      7     11    27              1           11     21       7    2017   \n",
       "9     10      1    24              1            1     40       1    2017   \n",
       "\n",
       "   team1_batting_wt  team1_bowling_wt  team1_merged_wt  team2_batting_wt  \\\n",
       "0          43.56249          30.13685         73.69934          41.03332   \n",
       "1          50.30838          43.52833         93.83671          39.79583   \n",
       "2          39.31667          33.93399         73.25066          34.49166   \n",
       "3          39.79583          21.21700         61.01283          40.41663   \n",
       "4          41.03332          28.08966         69.12298          36.47501   \n",
       "5          39.31667          33.93399         73.25066          43.56249   \n",
       "6          34.49166          26.59440         61.08606          50.30838   \n",
       "7          41.03332          28.08966         69.12298          40.41663   \n",
       "8          36.47501          26.20757         62.68258          39.79583   \n",
       "9          43.56249          30.13685         73.69934          50.30838   \n",
       "\n",
       "   team2_bowling_wt  team2_merged_wt  \n",
       "0          28.08966         69.12298  \n",
       "1          21.21700         61.01283  \n",
       "2          26.59440         61.08606  \n",
       "3          23.96229         64.37892  \n",
       "4          26.20757         62.68258  \n",
       "5          30.13685         73.69934  \n",
       "6          43.52833         93.83671  \n",
       "7          23.96229         64.37892  \n",
       "8          21.21700         61.01283  \n",
       "9          43.52833         93.83671  "
      ]
     },
     "execution_count": 54,
     "metadata": {},
     "output_type": "execute_result"
    }
   ],
   "source": [
    "training_data = spark.sql('select t2.*,t3.Total_Batting_Weight as team2_batting_wt, \\\n",
    "                           t3.Total_Bowling_Weight as team2_bowling_wt, t3.Team_Weight as team2_merged_wt \\\n",
    "                           from (select ntw.*,t.Total_Batting_Weight as team1_batting_wt, \\\n",
    "                           t.Total_Bowling_Weight as team1_bowling_wt, \\\n",
    "                           t.Team_Weight as team1_merged_wt from new_team_weight ntw \\\n",
    "                           inner join team_weight1 t \\\n",
    "                           on ntw.team1 = t.team where ntw.season = t.season) t2 \\\n",
    "                           inner join team_weight1 t3 \\\n",
    "                           on t2.team2 = t3.team where t2.season = t3.season')\n",
    "training_data = training_data.toPandas()\n",
    "training_data.head(10)"
   ]
  },
  {
   "cell_type": "code",
   "execution_count": 55,
   "metadata": {},
   "outputs": [
    {
     "name": "stdout",
     "output_type": "stream",
     "text": [
      "Accuracy : 88.0%\n",
      "Cross-Validation Score : 50.135%\n"
     ]
    },
    {
     "data": {
      "text/plain": [
       "RandomForestClassifier(bootstrap=True, class_weight=None, criterion='gini',\n",
       "            max_depth=None, max_features='auto', max_leaf_nodes=None,\n",
       "            min_impurity_decrease=0.0, min_impurity_split=None,\n",
       "            min_samples_leaf=1, min_samples_split=2,\n",
       "            min_weight_fraction_leaf=0.0, n_estimators=100, n_jobs=None,\n",
       "            oob_score=False, random_state=None, verbose=0,\n",
       "            warm_start=False)"
      ]
     },
     "execution_count": 55,
     "metadata": {},
     "output_type": "execute_result"
    }
   ],
   "source": [
    "# Applying RandomForest with more features\n",
    "model = RandomForestClassifier(n_estimators=100)\n",
    "outcome_var = ['winner']\n",
    "predictor_var = ['team1','team2','toss_winner','team1_batting_wt','team1_bowling_wt','team1_merged_wt','team2_batting_wt','team2_bowling_wt','team2_merged_wt']\n",
    "\n",
    "model.fit(training_data[predictors], training_data[outcome].values.ravel())\n",
    "predictions = model.predict(training_data[predictors])\n",
    "accuracy = metrics.accuracy_score(predictions,training_data[outcome])\n",
    "print('Accuracy : {0:.3}%'.format(100*accuracy))\n",
    "\n",
    "kf = KFold(n_splits=7)\n",
    "error = []\n",
    "for train, test in kf.split(training_data):\n",
    "    train_predictors = (training_data[predictors].iloc[train,:])\n",
    "    train_target = training_data[outcome].iloc[train]\n",
    "    model.fit(train_predictors, train_target.values.ravel())\n",
    "    error.append(model.score(training_data[predictors].iloc[test,:], training_data[outcome].iloc[test]))\n",
    "\n",
    "print('Cross-Validation Score : {0:.3%}'.format(np.mean(error)))\n",
    "model.fit(training_data[predictors],training_data[outcome].values.ravel())"
   ]
  },
  {
   "cell_type": "code",
   "execution_count": 56,
   "metadata": {},
   "outputs": [],
   "source": [
    "team_encoding =  {'Mumbai Indians':1,'Kolkata Knight Riders':2,'Royal Challengers Bangalore':3,'Deccan Chargers':4,\n",
    "                  'Chennai Super Kings':5,'Rajasthan Royals':6,'Delhi Daredevils':7,'Gujarat Lions':8,\n",
    "                  'Kings XI Punjab':9,'Sunrisers Hyderabad':10,'Rising Pune Supergiant':11,'Kochi Tuskers Kerala':12,\n",
    "                  'Pune Warriors':13, 'Delhi Capitals':14, 'Draw':15}"
   ]
  },
  {
   "cell_type": "markdown",
   "metadata": {},
   "source": [
    "#### Testing Prediction"
   ]
  },
  {
   "cell_type": "code",
   "execution_count": 60,
   "metadata": {
    "scrolled": true
   },
   "outputs": [
    {
     "name": "stdout",
     "output_type": "stream",
     "text": [
      "Winning team is: \n",
      "Sunrisers Hyderabad\n"
     ]
    }
   ],
   "source": [
    "team1='Sunrisers Hyderabad'\n",
    "team2='Royal Challengers Bangalore'\n",
    "toss_winner='Royal Challengers Bangalore'\n",
    "input=[team_encoding[team1],team_encoding[team2],'28',team_encoding[toss_winner],'15','1']\n",
    "input = np.array(input).reshape((1, -1))\n",
    "output=model.predict(input)\n",
    "print('Winning team is: ')\n",
    "print(list(team_encoding.keys())[list(team_encoding.values()).index(output)])"
   ]
  },
  {
   "cell_type": "code",
   "execution_count": 61,
   "metadata": {},
   "outputs": [
    {
     "name": "stdout",
     "output_type": "stream",
     "text": [
      "Winning team is: \n",
      "Kolkata Knight Riders\n"
     ]
    }
   ],
   "source": [
    "team1='Gujarat Lions'\n",
    "team2='Kolkata Knight Riders'\n",
    "toss_winner='Kolkata Knight Riders'\n",
    "input=[team_encoding[team1],team_encoding[team2],'31',team_encoding[toss_winner],'29','1']\n",
    "input = np.array(input).reshape((1, -1))\n",
    "output=model.predict(input)\n",
    "print('Winning team is: ')\n",
    "print(list(team_encoding.keys())[list(team_encoding.values()).index(output)])"
   ]
  },
  {
   "cell_type": "code",
   "execution_count": null,
   "metadata": {},
   "outputs": [],
   "source": []
  }
 ],
 "metadata": {
  "kernelspec": {
   "display_name": "Python 3",
   "language": "python",
   "name": "python3"
  },
  "language_info": {
   "codemirror_mode": {
    "name": "ipython",
    "version": 3
   },
   "file_extension": ".py",
   "mimetype": "text/x-python",
   "name": "python",
   "nbconvert_exporter": "python",
   "pygments_lexer": "ipython3",
   "version": "3.6.5"
  }
 },
 "nbformat": 4,
 "nbformat_minor": 2
}
